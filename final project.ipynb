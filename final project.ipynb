{
 "cells": [
  {
   "cell_type": "markdown",
   "id": "fd0ad611-34c2-4145-a197-d18f4e4b7c25",
   "metadata": {},
   "source": [
    "## Question 1 - Extracting Tesla Stock Data Using yfinance"
   ]
  },
  {
   "cell_type": "code",
   "execution_count": 18,
   "id": "b3825c4a-25a3-40c1-9b70-53515feaec9e",
   "metadata": {},
   "outputs": [],
   "source": [
    "#!install yfinance"
   ]
  },
  {
   "cell_type": "code",
   "execution_count": 46,
   "id": "6b5035fe-6689-44a0-bf4d-23de4e195539",
   "metadata": {},
   "outputs": [],
   "source": [
    "import yfinance as yf\n",
    "import pandas as pd\n",
    "import requests\n",
    "from bs4 import BeautifulSoup"
   ]
  },
  {
   "cell_type": "markdown",
   "id": "003dbb3c-7d20-4dbf-b9b7-b1322c289294",
   "metadata": {},
   "source": [
    "Using the `Ticker` function enter the ticker symbol of the stock we want to extract data on to create a ticker object. The stock is Tesla and its ticker symbol is `TSLA`."
   ]
  },
  {
   "cell_type": "code",
   "execution_count": 28,
   "id": "fda26651-719b-4d3f-a8ad-5625da202e79",
   "metadata": {},
   "outputs": [
    {
     "name": "stdout",
     "output_type": "stream",
     "text": [
      "                                 Open        High         Low       Close  \\\n",
      "Date                                                                        \n",
      "2010-06-29 00:00:00-04:00    1.266667    1.666667    1.169333    1.592667   \n",
      "2010-06-30 00:00:00-04:00    1.719333    2.028000    1.553333    1.588667   \n",
      "2010-07-01 00:00:00-04:00    1.666667    1.728000    1.351333    1.464000   \n",
      "2010-07-02 00:00:00-04:00    1.533333    1.540000    1.247333    1.280000   \n",
      "2010-07-06 00:00:00-04:00    1.333333    1.333333    1.055333    1.074000   \n",
      "...                               ...         ...         ...         ...   \n",
      "2025-10-23 00:00:00-04:00  420.000000  449.399994  413.899994  448.980011   \n",
      "2025-10-24 00:00:00-04:00  446.829987  451.679993  430.170013  433.720001   \n",
      "2025-10-27 00:00:00-04:00  439.980011  460.160004  438.690002  452.420013   \n",
      "2025-10-28 00:00:00-04:00  454.779999  467.000000  451.600006  460.549988   \n",
      "2025-10-29 00:00:00-04:00  462.424988  463.290009  461.500000  463.549988   \n",
      "\n",
      "                              Volume  Dividends  Stock Splits  \n",
      "Date                                                           \n",
      "2010-06-29 00:00:00-04:00  281494500        0.0           0.0  \n",
      "2010-06-30 00:00:00-04:00  257806500        0.0           0.0  \n",
      "2010-07-01 00:00:00-04:00  123282000        0.0           0.0  \n",
      "2010-07-02 00:00:00-04:00   77097000        0.0           0.0  \n",
      "2010-07-06 00:00:00-04:00  103003500        0.0           0.0  \n",
      "...                              ...        ...           ...  \n",
      "2025-10-23 00:00:00-04:00  126709800        0.0           0.0  \n",
      "2025-10-24 00:00:00-04:00   94727800        0.0           0.0  \n",
      "2025-10-27 00:00:00-04:00  105867500        0.0           0.0  \n",
      "2025-10-28 00:00:00-04:00   79906500        0.0           0.0  \n",
      "2025-10-29 00:00:00-04:00    3352239        0.0           0.0  \n",
      "\n",
      "[3859 rows x 7 columns]\n"
     ]
    }
   ],
   "source": [
    "tesla = yf.Ticker('TSLA')\n",
    "tesla_data = tesla.history(period='max')\n",
    "print(tesla_data)"
   ]
  },
  {
   "cell_type": "markdown",
   "id": "11c1816a-3475-4b66-a26c-546174ef385b",
   "metadata": {},
   "source": [
    "Using the ticker object and the function `history` extract stock information and save it in a dataframe named `tesla_data`. Set the `period` parameter to `max` so we get information for the maximum amount of time."
   ]
  },
  {
   "cell_type": "code",
   "execution_count": 32,
   "id": "85c172af-3cb9-49dd-a9f7-d66621d224a7",
   "metadata": {},
   "outputs": [
    {
     "data": {
      "text/html": [
       "<div>\n",
       "<style scoped>\n",
       "    .dataframe tbody tr th:only-of-type {\n",
       "        vertical-align: middle;\n",
       "    }\n",
       "\n",
       "    .dataframe tbody tr th {\n",
       "        vertical-align: top;\n",
       "    }\n",
       "\n",
       "    .dataframe thead th {\n",
       "        text-align: right;\n",
       "    }\n",
       "</style>\n",
       "<table border=\"1\" class=\"dataframe\">\n",
       "  <thead>\n",
       "    <tr style=\"text-align: right;\">\n",
       "      <th></th>\n",
       "      <th>Date</th>\n",
       "      <th>Open</th>\n",
       "      <th>High</th>\n",
       "      <th>Low</th>\n",
       "      <th>Close</th>\n",
       "      <th>Volume</th>\n",
       "      <th>Dividends</th>\n",
       "      <th>Stock Splits</th>\n",
       "    </tr>\n",
       "  </thead>\n",
       "  <tbody>\n",
       "    <tr>\n",
       "      <th>0</th>\n",
       "      <td>2010-06-29 00:00:00-04:00</td>\n",
       "      <td>1.266667</td>\n",
       "      <td>1.666667</td>\n",
       "      <td>1.169333</td>\n",
       "      <td>1.592667</td>\n",
       "      <td>281494500</td>\n",
       "      <td>0.0</td>\n",
       "      <td>0.0</td>\n",
       "    </tr>\n",
       "    <tr>\n",
       "      <th>1</th>\n",
       "      <td>2010-06-30 00:00:00-04:00</td>\n",
       "      <td>1.719333</td>\n",
       "      <td>2.028000</td>\n",
       "      <td>1.553333</td>\n",
       "      <td>1.588667</td>\n",
       "      <td>257806500</td>\n",
       "      <td>0.0</td>\n",
       "      <td>0.0</td>\n",
       "    </tr>\n",
       "    <tr>\n",
       "      <th>2</th>\n",
       "      <td>2010-07-01 00:00:00-04:00</td>\n",
       "      <td>1.666667</td>\n",
       "      <td>1.728000</td>\n",
       "      <td>1.351333</td>\n",
       "      <td>1.464000</td>\n",
       "      <td>123282000</td>\n",
       "      <td>0.0</td>\n",
       "      <td>0.0</td>\n",
       "    </tr>\n",
       "    <tr>\n",
       "      <th>3</th>\n",
       "      <td>2010-07-02 00:00:00-04:00</td>\n",
       "      <td>1.533333</td>\n",
       "      <td>1.540000</td>\n",
       "      <td>1.247333</td>\n",
       "      <td>1.280000</td>\n",
       "      <td>77097000</td>\n",
       "      <td>0.0</td>\n",
       "      <td>0.0</td>\n",
       "    </tr>\n",
       "    <tr>\n",
       "      <th>4</th>\n",
       "      <td>2010-07-06 00:00:00-04:00</td>\n",
       "      <td>1.333333</td>\n",
       "      <td>1.333333</td>\n",
       "      <td>1.055333</td>\n",
       "      <td>1.074000</td>\n",
       "      <td>103003500</td>\n",
       "      <td>0.0</td>\n",
       "      <td>0.0</td>\n",
       "    </tr>\n",
       "  </tbody>\n",
       "</table>\n",
       "</div>"
      ],
      "text/plain": [
       "                       Date      Open      High       Low     Close  \\\n",
       "0 2010-06-29 00:00:00-04:00  1.266667  1.666667  1.169333  1.592667   \n",
       "1 2010-06-30 00:00:00-04:00  1.719333  2.028000  1.553333  1.588667   \n",
       "2 2010-07-01 00:00:00-04:00  1.666667  1.728000  1.351333  1.464000   \n",
       "3 2010-07-02 00:00:00-04:00  1.533333  1.540000  1.247333  1.280000   \n",
       "4 2010-07-06 00:00:00-04:00  1.333333  1.333333  1.055333  1.074000   \n",
       "\n",
       "      Volume  Dividends  Stock Splits  \n",
       "0  281494500        0.0           0.0  \n",
       "1  257806500        0.0           0.0  \n",
       "2  123282000        0.0           0.0  \n",
       "3   77097000        0.0           0.0  \n",
       "4  103003500        0.0           0.0  "
      ]
     },
     "execution_count": 32,
     "metadata": {},
     "output_type": "execute_result"
    }
   ],
   "source": [
    "tesla_data.reset_index(inplace=True)\n",
    "tesla_data.head()"
   ]
  },
  {
   "cell_type": "markdown",
   "id": "21ada1c3-dbee-44ae-b82c-8d3ce30cc022",
   "metadata": {},
   "source": [
    "## Question 2 - Extracting Tesla Revenue Data Using Webscraping"
   ]
  },
  {
   "cell_type": "markdown",
   "id": "cdd6847a-e8a6-4cb2-b408-edc8b5a8337e",
   "metadata": {},
   "source": [
    "Use the `requests` library to download the webpage `https://www.macrotrends.net/stocks/charts/TSLA/tesla/revenue`. Save the text of the response as a variable named `html_data`."
   ]
  },
  {
   "cell_type": "markdown",
   "id": "fff80621-6e8c-4bae-8c58-e2a7c7226545",
   "metadata": {},
   "source": [
    "Parse the html_data using `beatiful_soup`."
   ]
  },
  {
   "cell_type": "code",
   "execution_count": 63,
   "id": "64206be3-2bf9-42a8-b648-4cf887d62bd1",
   "metadata": {},
   "outputs": [
    {
     "name": "stdout",
     "output_type": "stream",
     "text": [
      "<title>Tesla Revenue 2011-2025 | TSLA | MacroTrends</title>\n"
     ]
    }
   ],
   "source": [
    "#!pip install selenium\n",
    "from selenium import webdriver\n",
    "from bs4 import BeautifulSoup\n",
    "import time\n",
    "\n",
    "# 1. Open the browser\n",
    "driver = webdriver.Chrome()  # 혹은 ChromeDriver 경로 지정 필요\n",
    "driver.get(\"https://www.macrotrends.net/stocks/charts/TSLA/tesla/revenue\")\n",
    "\n",
    "# 2. waiting page loading\n",
    "time.sleep(3)\n",
    "\n",
    "# 3. Load the HTML\n",
    "html_data = driver.page_source\n",
    "soup = BeautifulSoup(html_data, \"html.parser\")\n",
    "\n",
    "# 4. Print the title\n",
    "print(soup.title)\n",
    "\n",
    "# 5. Quit\n",
    "driver.quit()\n"
   ]
  },
  {
   "cell_type": "markdown",
   "id": "9da61cd8-6a1f-4aca-85eb-1cd984954230",
   "metadata": {},
   "source": [
    "Using `BeautifulSoup` or the `read_html` function extract the table with `Tesla Quarterly Revenue` and store it into dataframe named `tesla_revenue`. The dataframe should have columns `Date` and `Revenue`."
   ]
  },
  {
   "cell_type": "code",
   "execution_count": 77,
   "id": "75873026-2eb4-4763-b7fd-6412688c397d",
   "metadata": {},
   "outputs": [
    {
     "name": "stdout",
     "output_type": "stream",
     "text": [
      "          Date  Revenue\n",
      "0   2025-06-30  $22,496\n",
      "1   2025-03-31  $19,335\n",
      "2   2024-12-31  $25,707\n",
      "3   2024-09-30  $25,182\n",
      "4   2024-06-30  $25,500\n",
      "5   2024-03-31  $21,301\n",
      "6   2023-12-31  $25,167\n",
      "7   2023-09-30  $23,350\n",
      "8   2023-06-30  $24,927\n",
      "9   2023-03-31  $23,329\n",
      "10  2022-12-31  $24,318\n",
      "11  2022-09-30  $21,454\n",
      "12  2022-06-30  $16,934\n",
      "13  2022-03-31  $18,756\n",
      "14  2021-12-31  $17,719\n",
      "15  2021-09-30  $13,757\n",
      "16  2021-06-30  $11,958\n",
      "17  2021-03-31  $10,389\n",
      "18  2020-12-31  $10,744\n",
      "19  2020-09-30   $8,771\n",
      "20  2020-06-30   $6,036\n",
      "21  2020-03-31   $5,985\n",
      "22  2019-12-31   $7,384\n",
      "23  2019-09-30   $6,303\n",
      "24  2019-06-30   $6,350\n",
      "25  2019-03-31   $4,541\n",
      "26  2018-12-31   $7,226\n",
      "27  2018-09-30   $6,824\n",
      "28  2018-06-30   $4,002\n",
      "29  2018-03-31   $3,409\n",
      "30  2017-12-31   $3,288\n",
      "31  2017-09-30   $2,985\n",
      "32  2017-06-30   $2,790\n",
      "33  2017-03-31   $2,696\n",
      "34  2016-12-31   $2,285\n",
      "35  2016-09-30   $2,298\n",
      "36  2016-06-30   $1,270\n",
      "37  2016-03-31   $1,147\n",
      "38  2015-12-31   $1,214\n",
      "39  2015-09-30     $937\n",
      "40  2015-06-30     $955\n",
      "41  2015-03-31     $940\n",
      "42  2014-12-31     $957\n",
      "43  2014-09-30     $852\n",
      "44  2014-06-30     $769\n",
      "45  2014-03-31     $621\n",
      "46  2013-12-31     $615\n",
      "47  2013-09-30     $431\n",
      "48  2013-06-30     $405\n",
      "49  2013-03-31     $562\n",
      "50  2012-12-31     $306\n",
      "51  2012-09-30      $50\n",
      "52  2012-06-30      $27\n",
      "53  2012-03-31      $30\n",
      "54  2011-12-31      $39\n",
      "55  2011-09-30      $58\n",
      "56  2011-06-30      $58\n",
      "57  2011-03-31      $49\n",
      "58  2010-12-31      $36\n"
     ]
    }
   ],
   "source": [
    "tesla_revenue = pd.DataFrame(columns=['Date', 'Revenue'])\n",
    "\n",
    "for row in soup.find_all('tbody')[1].find_all('tr'):\n",
    "    col = row.find_all('td')\n",
    "    date = col[0].text\n",
    "    revenue = col[1].text\n",
    "\n",
    "    tesla_revenue = pd.concat([tesla_revenue, pd.DataFrame({'Date': [date], 'Revenue': [revenue]})], ignore_index = True)\n",
    "print(tesla_revenue)"
   ]
  },
  {
   "cell_type": "markdown",
   "id": "8f862fbc-d3a5-4f3a-9150-c13e2e9e690f",
   "metadata": {},
   "source": [
    "Execute the following line to remove the comma and dollar sign from the `Revenue` column."
   ]
  },
  {
   "cell_type": "code",
   "execution_count": 84,
   "id": "af59167a-7ccc-41f3-bb39-8fb478d61cb8",
   "metadata": {},
   "outputs": [
    {
     "name": "stdout",
     "output_type": "stream",
     "text": [
      "          Date Revenue\n",
      "0   2025-06-30   22496\n",
      "1   2025-03-31   19335\n",
      "2   2024-12-31   25707\n",
      "3   2024-09-30   25182\n",
      "4   2024-06-30   25500\n",
      "5   2024-03-31   21301\n",
      "6   2023-12-31   25167\n",
      "7   2023-09-30   23350\n",
      "8   2023-06-30   24927\n",
      "9   2023-03-31   23329\n",
      "10  2022-12-31   24318\n",
      "11  2022-09-30   21454\n",
      "12  2022-06-30   16934\n",
      "13  2022-03-31   18756\n",
      "14  2021-12-31   17719\n",
      "15  2021-09-30   13757\n",
      "16  2021-06-30   11958\n",
      "17  2021-03-31   10389\n",
      "18  2020-12-31   10744\n",
      "19  2020-09-30    8771\n",
      "20  2020-06-30    6036\n",
      "21  2020-03-31    5985\n",
      "22  2019-12-31    7384\n",
      "23  2019-09-30    6303\n",
      "24  2019-06-30    6350\n",
      "25  2019-03-31    4541\n",
      "26  2018-12-31    7226\n",
      "27  2018-09-30    6824\n",
      "28  2018-06-30    4002\n",
      "29  2018-03-31    3409\n",
      "30  2017-12-31    3288\n",
      "31  2017-09-30    2985\n",
      "32  2017-06-30    2790\n",
      "33  2017-03-31    2696\n",
      "34  2016-12-31    2285\n",
      "35  2016-09-30    2298\n",
      "36  2016-06-30    1270\n",
      "37  2016-03-31    1147\n",
      "38  2015-12-31    1214\n",
      "39  2015-09-30     937\n",
      "40  2015-06-30     955\n",
      "41  2015-03-31     940\n",
      "42  2014-12-31     957\n",
      "43  2014-09-30     852\n",
      "44  2014-06-30     769\n",
      "45  2014-03-31     621\n",
      "46  2013-12-31     615\n",
      "47  2013-09-30     431\n",
      "48  2013-06-30     405\n",
      "49  2013-03-31     562\n",
      "50  2012-12-31     306\n",
      "51  2012-09-30      50\n",
      "52  2012-06-30      27\n",
      "53  2012-03-31      30\n",
      "54  2011-12-31      39\n",
      "55  2011-09-30      58\n",
      "56  2011-06-30      58\n",
      "57  2011-03-31      49\n",
      "58  2010-12-31      36\n"
     ]
    }
   ],
   "source": [
    "tesla_revenue['Revenue'] = tesla_revenue['Revenue'].str.replace(r'[\\,$]', '', regex=True)\n",
    "print(tesla_revenue)"
   ]
  },
  {
   "cell_type": "markdown",
   "id": "b1d04ad7-9e88-4471-b785-313ce06453b5",
   "metadata": {},
   "source": [
    "Execute the following lines to remove an null or empty strings in the Revenue column."
   ]
  },
  {
   "cell_type": "code",
   "execution_count": 89,
   "id": "89a43bba-c9ef-4318-af2c-376568a39d3e",
   "metadata": {},
   "outputs": [
    {
     "name": "stdout",
     "output_type": "stream",
     "text": [
      "          Date Revenue\n",
      "0   2025-06-30   22496\n",
      "1   2025-03-31   19335\n",
      "2   2024-12-31   25707\n",
      "3   2024-09-30   25182\n",
      "4   2024-06-30   25500\n",
      "5   2024-03-31   21301\n",
      "6   2023-12-31   25167\n",
      "7   2023-09-30   23350\n",
      "8   2023-06-30   24927\n",
      "9   2023-03-31   23329\n",
      "10  2022-12-31   24318\n",
      "11  2022-09-30   21454\n",
      "12  2022-06-30   16934\n",
      "13  2022-03-31   18756\n",
      "14  2021-12-31   17719\n",
      "15  2021-09-30   13757\n",
      "16  2021-06-30   11958\n",
      "17  2021-03-31   10389\n",
      "18  2020-12-31   10744\n",
      "19  2020-09-30    8771\n",
      "20  2020-06-30    6036\n",
      "21  2020-03-31    5985\n",
      "22  2019-12-31    7384\n",
      "23  2019-09-30    6303\n",
      "24  2019-06-30    6350\n",
      "25  2019-03-31    4541\n",
      "26  2018-12-31    7226\n",
      "27  2018-09-30    6824\n",
      "28  2018-06-30    4002\n",
      "29  2018-03-31    3409\n",
      "30  2017-12-31    3288\n",
      "31  2017-09-30    2985\n",
      "32  2017-06-30    2790\n",
      "33  2017-03-31    2696\n",
      "34  2016-12-31    2285\n",
      "35  2016-09-30    2298\n",
      "36  2016-06-30    1270\n",
      "37  2016-03-31    1147\n",
      "38  2015-12-31    1214\n",
      "39  2015-09-30     937\n",
      "40  2015-06-30     955\n",
      "41  2015-03-31     940\n",
      "42  2014-12-31     957\n",
      "43  2014-09-30     852\n",
      "44  2014-06-30     769\n",
      "45  2014-03-31     621\n",
      "46  2013-12-31     615\n",
      "47  2013-09-30     431\n",
      "48  2013-06-30     405\n",
      "49  2013-03-31     562\n",
      "50  2012-12-31     306\n",
      "51  2012-09-30      50\n",
      "52  2012-06-30      27\n",
      "53  2012-03-31      30\n",
      "54  2011-12-31      39\n",
      "55  2011-09-30      58\n",
      "56  2011-06-30      58\n",
      "57  2011-03-31      49\n",
      "58  2010-12-31      36\n"
     ]
    }
   ],
   "source": [
    "tesla_revenue.dropna(inplace=True)\n",
    "\n",
    "tesla_remove = tesla_revenue[tesla_revenue['Revenue'] != '']\n",
    "print(tesla_revenue)"
   ]
  },
  {
   "cell_type": "markdown",
   "id": "c3381bda-f017-488b-a830-71137f7844ee",
   "metadata": {},
   "source": [
    "## Question 3 - Extracting GameStop Stock Data Using yfinance"
   ]
  },
  {
   "cell_type": "markdown",
   "id": "4eed5330-e3ac-42a8-bd67-5d33b650b3ed",
   "metadata": {},
   "source": [
    "Using `Ticker` function enter the ticker symbol of the stock we want to extract data on to create a ticker object. The stock is GameStop and its ticker symbol is `GME`."
   ]
  },
  {
   "cell_type": "code",
   "execution_count": 94,
   "id": "5d7d932a-a20c-4055-9ee0-f1aa2b2e3c08",
   "metadata": {},
   "outputs": [],
   "source": [
    "GameStop = yf.Ticker('GME')"
   ]
  },
  {
   "cell_type": "markdown",
   "id": "8aba626a-493f-4636-880f-dbf73aa65354",
   "metadata": {},
   "source": [
    "Using the ticker object and the function `history` extract stock information and save it in a dataframe named `gme_data`. Set the `period` parameter to `max` so we get information for the maximum amount of time."
   ]
  },
  {
   "cell_type": "code",
   "execution_count": 97,
   "id": "eede3618-f427-4a24-b90f-af081bdb2199",
   "metadata": {},
   "outputs": [],
   "source": [
    "gme_data = GameStop.history(period='max')"
   ]
  },
  {
   "cell_type": "markdown",
   "id": "49b236a7-28c5-4ca8-865d-290a663ae3a0",
   "metadata": {},
   "source": [
    "**Reset the index** using the `reset_index(inplace=True)` function on the gme_data DataFrame and display the first five rows of the `gme_data` dataframe using the `head` function."
   ]
  },
  {
   "cell_type": "code",
   "execution_count": 100,
   "id": "44b2aa78-2967-4c5e-85ee-3b0c9c9f396b",
   "metadata": {},
   "outputs": [
    {
     "data": {
      "text/html": [
       "<div>\n",
       "<style scoped>\n",
       "    .dataframe tbody tr th:only-of-type {\n",
       "        vertical-align: middle;\n",
       "    }\n",
       "\n",
       "    .dataframe tbody tr th {\n",
       "        vertical-align: top;\n",
       "    }\n",
       "\n",
       "    .dataframe thead th {\n",
       "        text-align: right;\n",
       "    }\n",
       "</style>\n",
       "<table border=\"1\" class=\"dataframe\">\n",
       "  <thead>\n",
       "    <tr style=\"text-align: right;\">\n",
       "      <th></th>\n",
       "      <th>Date</th>\n",
       "      <th>Open</th>\n",
       "      <th>High</th>\n",
       "      <th>Low</th>\n",
       "      <th>Close</th>\n",
       "      <th>Volume</th>\n",
       "      <th>Dividends</th>\n",
       "      <th>Stock Splits</th>\n",
       "    </tr>\n",
       "  </thead>\n",
       "  <tbody>\n",
       "    <tr>\n",
       "      <th>0</th>\n",
       "      <td>2002-02-13 00:00:00-05:00</td>\n",
       "      <td>1.620129</td>\n",
       "      <td>1.693350</td>\n",
       "      <td>1.603296</td>\n",
       "      <td>1.691667</td>\n",
       "      <td>76216000</td>\n",
       "      <td>0.0</td>\n",
       "      <td>0.0</td>\n",
       "    </tr>\n",
       "    <tr>\n",
       "      <th>1</th>\n",
       "      <td>2002-02-14 00:00:00-05:00</td>\n",
       "      <td>1.712707</td>\n",
       "      <td>1.716074</td>\n",
       "      <td>1.670626</td>\n",
       "      <td>1.683250</td>\n",
       "      <td>11021600</td>\n",
       "      <td>0.0</td>\n",
       "      <td>0.0</td>\n",
       "    </tr>\n",
       "    <tr>\n",
       "      <th>2</th>\n",
       "      <td>2002-02-15 00:00:00-05:00</td>\n",
       "      <td>1.683250</td>\n",
       "      <td>1.687458</td>\n",
       "      <td>1.658001</td>\n",
       "      <td>1.674834</td>\n",
       "      <td>8389600</td>\n",
       "      <td>0.0</td>\n",
       "      <td>0.0</td>\n",
       "    </tr>\n",
       "    <tr>\n",
       "      <th>3</th>\n",
       "      <td>2002-02-19 00:00:00-05:00</td>\n",
       "      <td>1.666418</td>\n",
       "      <td>1.666418</td>\n",
       "      <td>1.578048</td>\n",
       "      <td>1.607504</td>\n",
       "      <td>7410400</td>\n",
       "      <td>0.0</td>\n",
       "      <td>0.0</td>\n",
       "    </tr>\n",
       "    <tr>\n",
       "      <th>4</th>\n",
       "      <td>2002-02-20 00:00:00-05:00</td>\n",
       "      <td>1.615921</td>\n",
       "      <td>1.662210</td>\n",
       "      <td>1.603296</td>\n",
       "      <td>1.662210</td>\n",
       "      <td>6892800</td>\n",
       "      <td>0.0</td>\n",
       "      <td>0.0</td>\n",
       "    </tr>\n",
       "  </tbody>\n",
       "</table>\n",
       "</div>"
      ],
      "text/plain": [
       "                       Date      Open      High       Low     Close    Volume  \\\n",
       "0 2002-02-13 00:00:00-05:00  1.620129  1.693350  1.603296  1.691667  76216000   \n",
       "1 2002-02-14 00:00:00-05:00  1.712707  1.716074  1.670626  1.683250  11021600   \n",
       "2 2002-02-15 00:00:00-05:00  1.683250  1.687458  1.658001  1.674834   8389600   \n",
       "3 2002-02-19 00:00:00-05:00  1.666418  1.666418  1.578048  1.607504   7410400   \n",
       "4 2002-02-20 00:00:00-05:00  1.615921  1.662210  1.603296  1.662210   6892800   \n",
       "\n",
       "   Dividends  Stock Splits  \n",
       "0        0.0           0.0  \n",
       "1        0.0           0.0  \n",
       "2        0.0           0.0  \n",
       "3        0.0           0.0  \n",
       "4        0.0           0.0  "
      ]
     },
     "execution_count": 100,
     "metadata": {},
     "output_type": "execute_result"
    }
   ],
   "source": [
    "gme_data.reset_index(inplace=True)\n",
    "gme_data.head()"
   ]
  },
  {
   "cell_type": "markdown",
   "id": "b463e4e8-f7b4-4ab7-a91d-57c84f999ed1",
   "metadata": {},
   "source": [
    "## Question 4 - Extracting GameStop Revenue Data Using Webscraping"
   ]
  },
  {
   "cell_type": "markdown",
   "id": "94e087a2-b54d-49bf-ab16-7265fa8e9088",
   "metadata": {},
   "source": [
    "Use the `requests` library to download the webpage `https://www.macrotrends.net/stocks/charts/GME/gamestop/revenue?utm_medium=Exinfluencer&utm_source=Exinfluencer&utm_content=000026UJ&utm_term=10006555&utm_id=NA-SkillsNetwork-Channel-SkillsNetworkCoursesIBMDeveloperSkillsNetworkPY0220ENSkillsNetwork23455606-2021-01-01`. Save the text of the response as a vraiable named `html_data`."
   ]
  },
  {
   "cell_type": "markdown",
   "id": "ab052ffe-3051-44e0-a931-1e03cbe63850",
   "metadata": {},
   "source": [
    "And parse the html data using `beautiful_soup`."
   ]
  },
  {
   "cell_type": "code",
   "execution_count": 110,
   "id": "5ca1b0e3-f8a0-4528-a758-b9dbc8afc088",
   "metadata": {},
   "outputs": [
    {
     "name": "stdout",
     "output_type": "stream",
     "text": [
      "<title>GameStop Revenue 2011-2025 | GME | MacroTrends</title>\n"
     ]
    }
   ],
   "source": [
    "url = 'https://www.macrotrends.net/stocks/charts/GME/gamestop/revenue?utm_medium=Exinfluencer&utm_source=Exinfluencer&utm_content=000026UJ&utm_term=10006555&utm_id=NA-SkillsNetwork-Channel-SkillsNetworkCoursesIBMDeveloperSkillsNetworkPY0220ENSkillsNetwork23455606-2021-01-01'\n",
    "\n",
    "# 1. Open the browser\n",
    "driver = webdriver.Chrome()  # 혹은 ChromeDriver 경로 지정 필요\n",
    "driver.get(url)\n",
    "\n",
    "# 2. waiting page loading\n",
    "time.sleep(3)\n",
    "\n",
    "# 3. Load the HTML\n",
    "html_data = driver.page_source\n",
    "soup = BeautifulSoup(html_data, \"html.parser\")\n",
    "\n",
    "# 4. Print the title\n",
    "print(soup.title)\n",
    "\n",
    "# 5. Quit\n",
    "driver.quit()"
   ]
  },
  {
   "cell_type": "code",
   "execution_count": 116,
   "id": "ef1870a1-4f6b-4b5c-9b9b-39689325fa1e",
   "metadata": {},
   "outputs": [
    {
     "name": "stdout",
     "output_type": "stream",
     "text": [
      "          Date Revenue\n",
      "0   2025-07-31     972\n",
      "1   2025-04-30     732\n",
      "2   2025-01-31    1283\n",
      "3   2024-10-31     860\n",
      "4   2024-07-31     798\n",
      "5   2024-04-30     882\n",
      "6   2024-01-31    1794\n",
      "7   2023-10-31    1078\n",
      "8   2023-07-31    1164\n",
      "9   2023-04-30    1237\n",
      "10  2023-01-31    2226\n",
      "11  2022-10-31    1186\n",
      "12  2022-07-31    1136\n",
      "13  2022-04-30    1378\n",
      "14  2022-01-31    2254\n",
      "15  2021-10-31    1297\n",
      "16  2021-07-31    1183\n",
      "17  2021-04-30    1277\n",
      "18  2021-01-31    2122\n",
      "19  2020-10-31    1005\n",
      "20  2020-07-31     942\n",
      "21  2020-04-30    1021\n",
      "22  2020-01-31    2194\n",
      "23  2019-10-31    1439\n",
      "24  2019-07-31    1286\n",
      "25  2019-04-30    1548\n",
      "26  2019-01-31    3063\n",
      "27  2018-10-31    1935\n",
      "28  2018-07-31    1501\n",
      "29  2018-04-30    1786\n",
      "30  2018-01-31    2825\n",
      "31  2017-10-31    1989\n",
      "32  2017-07-31    1688\n",
      "33  2017-04-30    2046\n",
      "34  2017-01-31    2403\n",
      "35  2016-10-31    1959\n",
      "36  2016-07-31    1632\n",
      "37  2016-04-30    1972\n",
      "38  2016-01-31    3525\n",
      "39  2015-10-31    2016\n",
      "40  2015-07-31    1762\n",
      "41  2015-04-30    2061\n",
      "42  2015-01-31    3476\n",
      "43  2014-10-31    2092\n",
      "44  2014-07-31    1731\n",
      "45  2014-04-30    1996\n",
      "46  2014-01-31    3684\n",
      "47  2013-10-31    2107\n",
      "48  2013-07-31    1384\n",
      "49  2013-04-30    1865\n",
      "50  2013-01-31    3562\n",
      "51  2012-10-31    1773\n",
      "52  2012-07-31    1550\n",
      "53  2012-04-30    2002\n",
      "54  2012-01-31    3579\n",
      "55  2011-10-31    1947\n",
      "56  2011-07-31    1744\n",
      "57  2011-04-30    2281\n",
      "58  2011-01-31    3693\n",
      "59  2010-10-31    1899\n"
     ]
    }
   ],
   "source": [
    "gme_revenue = pd.DataFrame(columns = ['Date', 'Revenue'])\n",
    "\n",
    "for row in soup.find_all('tbody')[1].find_all('tr'):\n",
    "    col = row.find_all('td')\n",
    "    date = col[0].text\n",
    "    revenue = col[1].text\n",
    "\n",
    "    gme_revenue = pd.concat([gme_revenue, pd.DataFrame({'Date': [date], 'Revenue': [revenue]})], ignore_index = True)\n",
    "\n",
    "gme_revenue['Revenue'] = gme_revenue['Revenue'].str.replace(r'[\\,$]', '', regex=True)\n",
    "gme_revenue = gme_revenue[gme_revenue['Revenue'] != '']\n",
    "print(gme_revenue)"
   ]
  },
  {
   "cell_type": "markdown",
   "id": "b4e5fd53-e294-4862-b071-bd985e351daf",
   "metadata": {},
   "source": [
    "## Question 5 - Tesla Stock and Revenue Dashboard"
   ]
  },
  {
   "cell_type": "code",
   "execution_count": 131,
   "id": "28718d44-134a-4f2c-b8dc-ff000bac480b",
   "metadata": {},
   "outputs": [
    {
     "data": {
      "text/plain": [
       "<Axes: xlabel='Date'>"
      ]
     },
     "execution_count": 131,
     "metadata": {},
     "output_type": "execute_result"
    },
    {
     "data": {
      "image/png": "[encoded data removed]",
      "text/plain": [
       "<Figure size 640x480 with 1 Axes>"
      ]
     },
     "metadata": {},
     "output_type": "display_data"
    }
   ],
   "source": [
    "tesla_data.plot(x='Date',y='Open')"
   ]
  },
  {
   "cell_type": "code",
   "execution_count": 137,
   "id": "dcf0b9b5-8fcf-451c-a4e4-3d1c5d29d6fd",
   "metadata": {},
   "outputs": [
    {
     "data": {
      "text/plain": [
       "<Axes: xlabel='Date'>"
      ]
     },
     "execution_count": 137,
     "metadata": {},
     "output_type": "execute_result"
    },
    {
     "data": {
      "image/png": "[encoded data removed]",
      "text/plain": [
       "<Figure size 640x480 with 1 Axes>"
      ]
     },
     "metadata": {},
     "output_type": "display_data"
    }
   ],
   "source": [
    "tesla_revenue['Revenue'] = pd.to_numeric(tesla_revenue['Revenue'])\n",
    "tesla_revenue = tesla_revenue.sort_values(by='Date', ascending=True)\n",
    "tesla_revenue.plot(x='Date', y='Revenue')"
   ]
  },
  {
   "cell_type": "markdown",
   "id": "ea8d9d05-be2e-4f94-be1b-132967ee3c05",
   "metadata": {},
   "source": [
    "## Question 6 - GameStop Stock and Revenue Dashboard"
   ]
  },
  {
   "cell_type": "code",
   "execution_count": 141,
   "id": "b16a4a19-fb13-4794-9bcb-5aae62b0e849",
   "metadata": {},
   "outputs": [
    {
     "data": {
      "text/plain": [
       "<Axes: xlabel='Date'>"
      ]
     },
     "execution_count": 141,
     "metadata": {},
     "output_type": "execute_result"
    },
    {
     "data": {
      "image/png": "[encoded data removed]",
      "text/plain": [
       "<Figure size 640x480 with 1 Axes>"
      ]
     },
     "metadata": {},
     "output_type": "display_data"
    }
   ],
   "source": [
    "gme_data.plot(x='Date', y='Open')"
   ]
  },
  {
   "cell_type": "code",
   "execution_count": 143,
   "id": "94f26371-dfb6-4ed7-906b-aef08c60b673",
   "metadata": {},
   "outputs": [
    {
     "data": {
      "text/plain": [
       "<Axes: xlabel='Date'>"
      ]
     },
     "execution_count": 143,
     "metadata": {},
     "output_type": "execute_result"
    },
    {
     "data": {
      "image/png": "[encoded data removed]",
      "text/plain": [
       "<Figure size 640x480 with 1 Axes>"
      ]
     },
     "metadata": {},
     "output_type": "display_data"
    }
   ],
   "source": [
    "gme_revenue['Revenue'] = pd.to_numeric(gme_revenue['Revenue'])\n",
    "gme_revenue = gme_revenue.sort_values(by='Date', ascending=True)\n",
    "gme_revenue.plot(x='Date', y='Revenue')"
   ]
  }
 ],
 "metadata": {
  "kernelspec": {
   "display_name": "Python [conda env:base] *",
   "language": "python",
   "name": "conda-base-py"
  },
  "language_info": {
   "codemirror_mode": {
    "name": "ipython",
    "version": 3
   },
   "file_extension": ".py",
   "mimetype": "text/x-python",
   "name": "python",
   "nbconvert_exporter": "python",
   "pygments_lexer": "ipython3",
   "version": "3.12.2"
  }
 },
 "nbformat": 4,
 "nbformat_minor": 5
}
